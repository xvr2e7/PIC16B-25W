{
 "cells": [
  {
   "cell_type": "raw",
   "metadata": {},
   "source": [
    "---\n",
    "title: \"Data Visualizations with the NOAA Climate Dataset\"\n",
    "author: \"Ziyan\"\n",
    "date: \"2025-02-01\"\n",
    "categories: [homework]\n",
    "format:\n",
    "  html:\n",
    "    code-overflow: wrap\n",
    "---"
   ]
  },
  {
   "cell_type": "markdown",
   "metadata": {},
   "source": [
    "Last time, we had fun diving into the world of penguins, creating some cool visualizations with the Palmer Penguins dataset. Penguins are adorable little waddlers, but they're facing serious threats from climate change.\n",
    "\n",
    "That's why it's so important to understand climate change and how it's evolving—and data visualization with Python is an awesome way to bring this understanding to life.\n",
    "\n",
    "In this tutorial, we're stepping it up! We'll use NOAA's (National Oceanic and Atmospheric Administration) climate dataset. And we'll focus on making interactive maps and plots that uncover temperature patterns and changes over time. Let's get started!"
   ]
  },
  {
   "cell_type": "markdown",
   "metadata": {},
   "source": [
    "## Preparing our Environment"
   ]
  },
  {
   "cell_type": "markdown",
   "metadata": {},
   "source": [
    "First, let's set up our Python environment with the necessary libraries. We'll be using:\n",
    "\n",
    "* ```pandas``` and ```numpy``` for data manipulation\n",
    "* ```plotly``` for interactive visualizations\n",
    "* ```sqlite3``` for database operations\n",
    "* ```scikit-learn``` for statistical analysis"
   ]
  },
  {
   "cell_type": "code",
   "execution_count": 5,
   "metadata": {},
   "outputs": [],
   "source": [
    "import plotly.io as pio\n",
    "pio.renderers.default=\"iframe\"\n",
    "import pandas as pd\n",
    "import numpy as np\n",
    "import sqlite3\n",
    "from plotly import express as px\n",
    "from sklearn.linear_model import LinearRegression\n",
    "import calendar\n",
    "import inspect"
   ]
  },
  {
   "cell_type": "markdown",
   "metadata": {},
   "source": [
    "## Creating our Database"
   ]
  },
  {
   "cell_type": "markdown",
   "metadata": {},
   "source": [
    "Our first step is to create a SQLite database to store the NOAA climate data. To accelerate the process, let's download the files to our working directory now."
   ]
  },
  {
   "cell_type": "code",
   "execution_count": 8,
   "metadata": {},
   "outputs": [],
   "source": [
    "import os\n",
    "# create folder named \"datafiles\" if it does not exist\n",
    "if not os.path.exists(\"datafiles\"): \n",
    "    os.mkdir(\"datafiles\")\n",
    "\n",
    "# download the files\n",
    "import urllib.request\n",
    "intervals = [f\"{i}-{i+9}\" for i in range(1901, 2020, 10)]\n",
    "for interval in intervals:\n",
    "    url = f\"https://raw.githubusercontent.com/PIC16B-ucla/25W/main/datasets/noaa-ghcn/decades/{interval}.csv\"\n",
    "    urllib.request.urlretrieve(url, f\"datafiles/{interval}.csv\")"
   ]
  },
  {
   "cell_type": "markdown",
   "metadata": {},
   "source": [
    "The data is organized by decades and includes temperature readings from weather stations worldwide.\n",
    "\n",
    "Let's first create a database in current directory called ```climate.db```."
   ]
  },
  {
   "cell_type": "code",
   "execution_count": 10,
   "metadata": {},
   "outputs": [],
   "source": [
    "conn = sqlite3.connect(\"climate.db\")"
   ]
  },
  {
   "cell_type": "markdown",
   "metadata": {},
   "source": [
    "We'll use a helper function ```prepare_df()``` to transform our data from wide format (where months are columns) to long format (where each month gets its own row). This makes the data easier to analyze and visualize.\n",
    "\n",
    "We'll also do a simple cleaning of the data by removing any rows with temperature measures of ```NaN```."
   ]
  },
  {
   "cell_type": "code",
   "execution_count": 12,
   "metadata": {},
   "outputs": [],
   "source": [
    "def prepare_df(df):\n",
    "    \"\"\"\n",
    "    prepares a piece of wide format dataframe into a long format data frame\n",
    "    \"\"\"\n",
    "    # melt to the long format table\n",
    "    df = df.melt(\n",
    "        id_vars = [\"ID\", \"Year\"],\n",
    "        value_vars = [f\"VALUE{i}\" for i in range(1, 13)],\n",
    "        var_name = \"Month\",\n",
    "        value_name = \"Temp\"\n",
    "    )\n",
    "\n",
    "    # cleaning month and temp\n",
    "    df[\"Month\"] = df[\"Month\"].str[5:].astype(int)\n",
    "    df[\"Temp\"]  = df[\"Temp\"] / 100\n",
    "    df = df[~np.isnan(df[\"Temp\"])]  # Remove rows with missing temperature values\n",
    "\n",
    "    return df"
   ]
  },
  {
   "cell_type": "markdown",
   "metadata": {},
   "source": [
    "Now we'll load our temperature data into the database. We'll iterate through each decade file, creating or appending the data to the temperatures table."
   ]
  },
  {
   "cell_type": "code",
   "execution_count": 14,
   "metadata": {},
   "outputs": [],
   "source": [
    "intervals = [f\"{i}-{i+9}\" for i in range(1901, 2020, 10)]\n",
    "for i, interval in enumerate(intervals):\n",
    "    filepath = f\"datafiles/{interval}.csv\"\n",
    "    df = pd.read_csv(filepath)\n",
    "    df = prepare_df(df)\n",
    "    df.to_sql(\"temperatures\", conn, if_exists = \"replace\" if i == 0 else \"append\", index = False)"
   ]
  },
  {
   "cell_type": "markdown",
   "metadata": {},
   "source": [
    "We also need the station metadata. It provides geographic coordinates for each station, station names, and other identifiers."
   ]
  },
  {
   "cell_type": "code",
   "execution_count": 16,
   "metadata": {},
   "outputs": [
    {
     "data": {
      "text/plain": [
       "27585"
      ]
     },
     "execution_count": 16,
     "metadata": {},
     "output_type": "execute_result"
    }
   ],
   "source": [
    "stations_url = \"https://raw.githubusercontent.com/PIC16B-ucla/25W/refs/heads/main/datasets/noaa-ghcn/station-metadata.csv\"\n",
    "stations = pd.read_csv(stations_url)\n",
    "stations.to_sql(\"stations\", conn, if_exists = \"replace\", index=False)"
   ]
  },
  {
   "cell_type": "markdown",
   "metadata": {},
   "source": [
    "Finally, we'll load the country information as well. The country codes table will allow us to map station IDs to countries. We'll relate them to temperature readings later in the next section!"
   ]
  },
  {
   "cell_type": "code",
   "execution_count": 18,
   "metadata": {},
   "outputs": [
    {
     "data": {
      "text/plain": [
       "279"
      ]
     },
     "execution_count": 18,
     "metadata": {},
     "output_type": "execute_result"
    }
   ],
   "source": [
    "countries_url = \"https://raw.githubusercontent.com/mysociety/gaze/master/data/fips-10-4-to-iso-country-codes.csv\"\n",
    "countries = pd.read_csv(countries_url)\n",
    "countries.to_sql(\"countries\", conn, if_exists = \"replace\", index=False)"
   ]
  },
  {
   "cell_type": "markdown",
   "metadata": {},
   "source": [
    "Let's verify the content of our database -- there should be three tables: ```temperatures```, ```stations```, and ```countries```. "
   ]
  },
  {
   "cell_type": "code",
   "execution_count": 20,
   "metadata": {},
   "outputs": [
    {
     "name": "stdout",
     "output_type": "stream",
     "text": [
      "[('temperatures',), ('stations',), ('countries',)]\n"
     ]
    }
   ],
   "source": [
    "cursor = conn.cursor()\n",
    "cursor.execute(\"SELECT name FROM sqlite_master WHERE type='table'\")\n",
    "print(cursor.fetchall())"
   ]
  },
  {
   "cell_type": "markdown",
   "metadata": {},
   "source": [
    "Don't forget to close the database connection as we are now finished constructing it."
   ]
  },
  {
   "cell_type": "code",
   "execution_count": 22,
   "metadata": {},
   "outputs": [],
   "source": [
    "conn.close()"
   ]
  },
  {
   "cell_type": "markdown",
   "metadata": {},
   "source": [
    "## Writing a Query Function"
   ]
  },
  {
   "cell_type": "markdown",
   "metadata": {},
   "source": [
    "Now that the databse is ready, we'll need to write query functions to retrieve and organize the data needed for our visualizations.\n",
    "\n",
    "Let's first write a function called ```query_climate_database()```, which retrieves temperature data with comprehensive contextual information."
   ]
  },
  {
   "cell_type": "code",
   "execution_count": 25,
   "metadata": {},
   "outputs": [
    {
     "name": "stdout",
     "output_type": "stream",
     "text": [
      "def query_climate_database(db_file, country, year_begin, year_end, month):\n",
      "    \"\"\"\n",
      "    Parameters:\n",
      "    -----------\n",
      "    db_file (str): File name for the database\n",
      "    country (str): Name of the country\n",
      "    year_begin (int): Earliest year for the date range (inclusive)\n",
      "    year_end (int): Lastest year for the date range (inclusive)\n",
      "    month (int): Month of the year\n",
      "        \n",
      "    Returns:\n",
      "    --------\n",
      "    pandas.DataFrame\n",
      "        DataFrame containing temperature readings with columns:\n",
      "        NAME, LATITUDE, LONGITUDE, Country, Year, Month, Temp\n",
      "    \"\"\"\n",
      "    \n",
      "    # Create connection to database\n",
      "    conn = sqlite3.connect(db_file)\n",
      "    \n",
      "    # Construct the SQL query using f-strings\n",
      "    query = f\"\"\"\n",
      "        SELECT \n",
      "            s.NAME,\n",
      "            s.LATITUDE,\n",
      "            s.LONGITUDE,\n",
      "            c.Name as Country,\n",
      "            t.Year,\n",
      "            t.Month,\n",
      "            t.Temp\n",
      "        FROM temperatures t\n",
      "        JOIN stations s ON t.ID = s.ID\n",
      "        JOIN countries c ON substr(t.ID, 1, 2) = c.\"FIPS 10-4\"\n",
      "        WHERE c.Name = '{country}'\n",
      "        AND t.Year >= {year_begin}\n",
      "        AND t.Year <= {year_end}\n",
      "        AND t.Month = {month}\n",
      "        ORDER BY s.NAME, t.Year, t.Month\n",
      "    \"\"\"\n",
      "    \n",
      "    # Execute query and load results into DataFrame\n",
      "    df = pd.read_sql_query(query, conn)\n",
      "    \n",
      "    # Close database connection\n",
      "    conn.close()\n",
      "    \n",
      "    return df\n",
      "\n"
     ]
    }
   ],
   "source": [
    "from climate_database import query_climate_database\n",
    "\n",
    "print(inspect.getsource(query_climate_database))"
   ]
  },
  {
   "cell_type": "markdown",
   "metadata": {},
   "source": [
    "This function joins three different tables and returns temperature readings for the specified country, within the specified date range, and for the specified month of the year.\n",
    "\n",
    "Let's inspect some data using the function. For example, if we want to know the January temperatures in India from 1980 to 2020:"
   ]
  },
  {
   "cell_type": "code",
   "execution_count": 27,
   "metadata": {},
   "outputs": [
    {
     "data": {
      "text/html": [
       "<div>\n",
       "<style scoped>\n",
       "    .dataframe tbody tr th:only-of-type {\n",
       "        vertical-align: middle;\n",
       "    }\n",
       "\n",
       "    .dataframe tbody tr th {\n",
       "        vertical-align: top;\n",
       "    }\n",
       "\n",
       "    .dataframe thead th {\n",
       "        text-align: right;\n",
       "    }\n",
       "</style>\n",
       "<table border=\"1\" class=\"dataframe\">\n",
       "  <thead>\n",
       "    <tr style=\"text-align: right;\">\n",
       "      <th></th>\n",
       "      <th>NAME</th>\n",
       "      <th>LATITUDE</th>\n",
       "      <th>LONGITUDE</th>\n",
       "      <th>Country</th>\n",
       "      <th>Year</th>\n",
       "      <th>Month</th>\n",
       "      <th>Temp</th>\n",
       "    </tr>\n",
       "  </thead>\n",
       "  <tbody>\n",
       "    <tr>\n",
       "      <th>0</th>\n",
       "      <td>AGARTALA</td>\n",
       "      <td>23.883</td>\n",
       "      <td>91.250</td>\n",
       "      <td>India</td>\n",
       "      <td>1980</td>\n",
       "      <td>1</td>\n",
       "      <td>18.21</td>\n",
       "    </tr>\n",
       "    <tr>\n",
       "      <th>1</th>\n",
       "      <td>AGARTALA</td>\n",
       "      <td>23.883</td>\n",
       "      <td>91.250</td>\n",
       "      <td>India</td>\n",
       "      <td>1981</td>\n",
       "      <td>1</td>\n",
       "      <td>18.25</td>\n",
       "    </tr>\n",
       "    <tr>\n",
       "      <th>2</th>\n",
       "      <td>AGARTALA</td>\n",
       "      <td>23.883</td>\n",
       "      <td>91.250</td>\n",
       "      <td>India</td>\n",
       "      <td>1982</td>\n",
       "      <td>1</td>\n",
       "      <td>19.31</td>\n",
       "    </tr>\n",
       "    <tr>\n",
       "      <th>3</th>\n",
       "      <td>AGARTALA</td>\n",
       "      <td>23.883</td>\n",
       "      <td>91.250</td>\n",
       "      <td>India</td>\n",
       "      <td>1985</td>\n",
       "      <td>1</td>\n",
       "      <td>19.25</td>\n",
       "    </tr>\n",
       "    <tr>\n",
       "      <th>4</th>\n",
       "      <td>AGARTALA</td>\n",
       "      <td>23.883</td>\n",
       "      <td>91.250</td>\n",
       "      <td>India</td>\n",
       "      <td>1988</td>\n",
       "      <td>1</td>\n",
       "      <td>19.54</td>\n",
       "    </tr>\n",
       "    <tr>\n",
       "      <th>...</th>\n",
       "      <td>...</td>\n",
       "      <td>...</td>\n",
       "      <td>...</td>\n",
       "      <td>...</td>\n",
       "      <td>...</td>\n",
       "      <td>...</td>\n",
       "      <td>...</td>\n",
       "    </tr>\n",
       "    <tr>\n",
       "      <th>3147</th>\n",
       "      <td>VISHAKHAPATNAM</td>\n",
       "      <td>17.717</td>\n",
       "      <td>83.233</td>\n",
       "      <td>India</td>\n",
       "      <td>2016</td>\n",
       "      <td>1</td>\n",
       "      <td>25.09</td>\n",
       "    </tr>\n",
       "    <tr>\n",
       "      <th>3148</th>\n",
       "      <td>VISHAKHAPATNAM</td>\n",
       "      <td>17.717</td>\n",
       "      <td>83.233</td>\n",
       "      <td>India</td>\n",
       "      <td>2017</td>\n",
       "      <td>1</td>\n",
       "      <td>23.90</td>\n",
       "    </tr>\n",
       "    <tr>\n",
       "      <th>3149</th>\n",
       "      <td>VISHAKHAPATNAM</td>\n",
       "      <td>17.717</td>\n",
       "      <td>83.233</td>\n",
       "      <td>India</td>\n",
       "      <td>2018</td>\n",
       "      <td>1</td>\n",
       "      <td>22.65</td>\n",
       "    </tr>\n",
       "    <tr>\n",
       "      <th>3150</th>\n",
       "      <td>VISHAKHAPATNAM</td>\n",
       "      <td>17.717</td>\n",
       "      <td>83.233</td>\n",
       "      <td>India</td>\n",
       "      <td>2019</td>\n",
       "      <td>1</td>\n",
       "      <td>22.20</td>\n",
       "    </tr>\n",
       "    <tr>\n",
       "      <th>3151</th>\n",
       "      <td>VISHAKHAPATNAM</td>\n",
       "      <td>17.717</td>\n",
       "      <td>83.233</td>\n",
       "      <td>India</td>\n",
       "      <td>2020</td>\n",
       "      <td>1</td>\n",
       "      <td>23.75</td>\n",
       "    </tr>\n",
       "  </tbody>\n",
       "</table>\n",
       "<p>3152 rows × 7 columns</p>\n",
       "</div>"
      ],
      "text/plain": [
       "                NAME  LATITUDE  LONGITUDE Country  Year  Month   Temp\n",
       "0           AGARTALA    23.883     91.250   India  1980      1  18.21\n",
       "1           AGARTALA    23.883     91.250   India  1981      1  18.25\n",
       "2           AGARTALA    23.883     91.250   India  1982      1  19.31\n",
       "3           AGARTALA    23.883     91.250   India  1985      1  19.25\n",
       "4           AGARTALA    23.883     91.250   India  1988      1  19.54\n",
       "...              ...       ...        ...     ...   ...    ...    ...\n",
       "3147  VISHAKHAPATNAM    17.717     83.233   India  2016      1  25.09\n",
       "3148  VISHAKHAPATNAM    17.717     83.233   India  2017      1  23.90\n",
       "3149  VISHAKHAPATNAM    17.717     83.233   India  2018      1  22.65\n",
       "3150  VISHAKHAPATNAM    17.717     83.233   India  2019      1  22.20\n",
       "3151  VISHAKHAPATNAM    17.717     83.233   India  2020      1  23.75\n",
       "\n",
       "[3152 rows x 7 columns]"
      ]
     },
     "execution_count": 27,
     "metadata": {},
     "output_type": "execute_result"
    }
   ],
   "source": [
    "query_climate_database(db_file = \"climate.db\",\n",
    "                       country = \"India\", \n",
    "                       year_begin = 1980, \n",
    "                       year_end = 2020,\n",
    "                       month = 1)"
   ]
  },
  {
   "cell_type": "markdown",
   "metadata": {},
   "source": [
    "## Making a Geographic Scatterplot for Yearly Temperature Increases"
   ]
  },
  {
   "cell_type": "markdown",
   "metadata": {},
   "source": [
    "Here comes the exciting part: let's create our first visualization. For example, if we are interested in this question:"
   ]
  },
  {
   "cell_type": "markdown",
   "metadata": {},
   "source": [
    "> **How does the average yearly change in temperature vary within a given country?**"
   ]
  },
  {
   "cell_type": "markdown",
   "metadata": {},
   "source": [
    "We can create an interactive geographic scatterplot, constructed using Plotly Express.\n",
    "\n",
    "There will be a point for each station, such that the color of the point reflects an estimate of the yearly change in temperature during the specified month and time period at that station. "
   ]
  },
  {
   "cell_type": "code",
   "execution_count": 32,
   "metadata": {},
   "outputs": [
    {
     "name": "stdout",
     "output_type": "stream",
     "text": [
      "def temperature_coefficient_plot(db_file, country, year_begin, year_end, month, min_obs, **kwargs):\n",
      "    \"\"\"\n",
      "    Parameters:\n",
      "    -----------\n",
      "    db_file (str): File name for the database\n",
      "    country (str): Name of the country\n",
      "    year_begin (int): Earliest year for the date range (inclusive)\n",
      "    year_end (int): Latest year for the date range (inclusive)\n",
      "    month (int): Month of the year\n",
      "    min_obs (int): Minimum number of years of data required for a station to be included\n",
      "    **kwargs: Additional keyword arguments to pass to px.scatter_mapbox()\n",
      "    \n",
      "    Returns:\n",
      "    --------\n",
      "    plotly.graph_objects.Figure\n",
      "    \"\"\"\n",
      "    \n",
      "    # Query the database\n",
      "    df = query_climate_database(db_file, country, year_begin, year_end, month)\n",
      "    \n",
      "    # Filter for stations with minimum required observations\n",
      "    df = df.groupby(['NAME', 'LATITUDE', 'LONGITUDE']).filter(lambda x: len(x) >= min_obs)\n",
      "    \n",
      "    # Calculate temperature coefficients using linear regression\n",
      "    def calc_coefficient(group):\n",
      "        X = group['Year'].values.reshape(-1, 1)\n",
      "        y = group['Temp'].values\n",
      "        model = LinearRegression()\n",
      "        model.fit(X, y)\n",
      "        return model.coef_[0]\n",
      "    \n",
      "    coefficients = df.groupby(['NAME', 'LATITUDE', 'LONGITUDE'])\\\n",
      "        .apply(calc_coefficient)\\\n",
      "        .reset_index(name='temp_change')\n",
      "    \n",
      "    # Get month name\n",
      "    month_name = calendar.month_name[month]\n",
      "    \n",
      "    # Create the interactive map\n",
      "    fig = px.scatter_mapbox(\n",
      "        coefficients,\n",
      "        lat='LATITUDE',\n",
      "        lon='LONGITUDE',\n",
      "        color='temp_change',\n",
      "        hover_name='NAME',\n",
      "        hover_data={\n",
      "            'LATITUDE': ':.3f',\n",
      "            'LONGITUDE': ':.2f',\n",
      "            'temp_change': ':.4f'\n",
      "        },\n",
      "        labels={\n",
      "            'temp_change': 'Estimated Yearly Increase (°C)',\n",
      "            'LATITUDE': 'LATITUDE',\n",
      "            'LONGITUDE': 'LONGITUDE'\n",
      "        },\n",
      "       title=f'Estimates of yearly increase in temperature in {month_name}<br>for stations in {country}, years {year_begin} - {year_end}',\n",
      "\t\trange_color=[-0.1, 0.1],\n",
      "\t\t**kwargs\n",
      "    )\n",
      "    \n",
      "    return fig\n",
      "\n"
     ]
    }
   ],
   "source": [
    "from main import temperature_coefficient_plot\n",
    "\n",
    "print(inspect.getsource(temperature_coefficient_plot))"
   ]
  },
  {
   "cell_type": "markdown",
   "metadata": {},
   "source": [
    "Now, we can create a plot of the estimated yearly increases in temperature during the month of January, for the interval 1980-2020, in India, for example:"
   ]
  },
  {
   "cell_type": "code",
   "execution_count": 34,
   "metadata": {},
   "outputs": [
    {
     "data": {
      "text/html": [
       "<iframe\n",
       "    scrolling=\"no\"\n",
       "    width=\"100%\"\n",
       "    height=\"545px\"\n",
       "    src=\"iframe_figures/figure_34.html\"\n",
       "    frameborder=\"0\"\n",
       "    allowfullscreen\n",
       "></iframe>\n"
      ]
     },
     "metadata": {},
     "output_type": "display_data"
    }
   ],
   "source": [
    "color_map = px.colors.diverging.RdGy_r\n",
    "\n",
    "fig = temperature_coefficient_plot(\"climate.db\", \"India\", 1980, 2020, 1, \n",
    "                                   min_obs = 10,\n",
    "                                   zoom = 2,\n",
    "                                   mapbox_style=\"carto-positron\",\n",
    "                                   color_continuous_scale=color_map)\n",
    "\n",
    "fig.show()"
   ]
  },
  {
   "cell_type": "markdown",
   "metadata": {},
   "source": [
    "Since the visualization is wrapped in functions, we can create visualizations for different parts of the data by calling these functions with different arguments. For example, we can also create a plot of the estimate yearly increases in temperature in September, for the interval 1990-2000, in China:"
   ]
  },
  {
   "cell_type": "code",
   "execution_count": 36,
   "metadata": {},
   "outputs": [
    {
     "data": {
      "text/html": [
       "<iframe\n",
       "    scrolling=\"no\"\n",
       "    width=\"100%\"\n",
       "    height=\"545px\"\n",
       "    src=\"iframe_figures/figure_36.html\"\n",
       "    frameborder=\"0\"\n",
       "    allowfullscreen\n",
       "></iframe>\n"
      ]
     },
     "metadata": {},
     "output_type": "display_data"
    }
   ],
   "source": [
    "color_map = px.colors.diverging.Tealrose\n",
    "\n",
    "fig = temperature_coefficient_plot(\"climate.db\", \"China\", 1990, 2000, 9, \n",
    "                                   min_obs = 10,\n",
    "                                   zoom = 2,\n",
    "                                   mapbox_style=\"carto-positron\",\n",
    "                                   color_continuous_scale=color_map)\n",
    "\n",
    "fig.show()"
   ]
  },
  {
   "cell_type": "markdown",
   "metadata": {},
   "source": [
    "## Make Two More Interesting Figures"
   ]
  },
  {
   "cell_type": "markdown",
   "metadata": {},
   "source": [
    "We can also create two more complex and interesting interactive data visualizations using the same data set!\n",
    "\n",
    "For example, we might be interested in the following question:"
   ]
  },
  {
   "cell_type": "markdown",
   "metadata": {},
   "source": [
    "> **How do seasonal temperature patterns vary between northern and southern regions of a country?**"
   ]
  },
  {
   "cell_type": "markdown",
   "metadata": {},
   "source": [
    "Similar to the previous sections, we can write a query function to facilitate the retrieval of relevant data for analyzing this question.\n",
    "\n",
    "The function ```query_regional_patterns()``` will divide the country into North, Central, and South region and aggregate data by month for seasonal analysis."
   ]
  },
  {
   "cell_type": "code",
   "execution_count": 41,
   "metadata": {},
   "outputs": [
    {
     "name": "stdout",
     "output_type": "stream",
     "text": [
      "def query_regional_patterns(db_file, country, year_begin, year_end):\n",
      "    \"\"\"\n",
      "    Parameters:\n",
      "    -----------\n",
      "    db_file (str): File name for the database\n",
      "    country (str): Name of the country\n",
      "    year_begin (int): Earliest year for the date range (inclusive)\n",
      "    year_end (int): Latest year for the date range (inclusive)\n",
      "    \n",
      "    Returns:\n",
      "    --------\n",
      "    pandas.DataFrame with columns:\n",
      "        Year: year of measurement\n",
      "        Month: month of measurement\n",
      "        region: geographical region (North, Central, South)\n",
      "        temperature: average temperature for that region/month/year\n",
      "    \"\"\"\n",
      "    conn = sqlite3.connect(db_file)\n",
      "    \n",
      "    query = f\"\"\"\n",
      "        WITH station_regions AS (\n",
      "            SELECT \n",
      "                s.ID,\n",
      "                CASE \n",
      "                    WHEN s.LATITUDE >= LAT_MAX - (LAT_MAX - LAT_MIN)/3 THEN 'North'  -- North region if latitude is at the upper third of the range\n",
      "                    WHEN s.LATITUDE >= LAT_MAX - 2*(LAT_MAX - LAT_MIN)/3 THEN 'Central'  -- Central region if latitude is in the middle third\n",
      "                    ELSE 'South'   -- South region for the remaining latitudes\n",
      "                END as region\n",
      "            FROM stations s\n",
      "            JOIN countries c ON substr(s.ID, 1, 2) = c.\"FIPS 10-4\"\n",
      "            CROSS JOIN (\n",
      "                SELECT \n",
      "                    MAX(LATITUDE) as LAT_MAX,\n",
      "                    MIN(LATITUDE) as LAT_MIN\n",
      "                FROM stations s2\n",
      "                JOIN countries c2 ON substr(s2.ID, 1, 2) = c2.\"FIPS 10-4\"\n",
      "                WHERE c2.Name = '{country}'\n",
      "            )\n",
      "            WHERE c.Name = '{country}'\n",
      "        )\n",
      "        SELECT \n",
      "            t.Year,\n",
      "            t.Month,\n",
      "            sr.region,\n",
      "            t.Temp\n",
      "        FROM temperatures t\n",
      "        JOIN station_regions sr ON t.ID = sr.ID\n",
      "        JOIN countries c ON substr(t.ID, 1, 2) = c.\"FIPS 10-4\"\n",
      "        WHERE c.Name = '{country}'\n",
      "        AND t.Year >= {year_begin}\n",
      "        AND t.Year <= {year_end}\n",
      "        GROUP BY t.Year, t.Month, sr.region\n",
      "        ORDER BY region, t.Year, t.Month\n",
      "    \"\"\"\n",
      "    \n",
      "    df = pd.read_sql_query(query, conn)\n",
      "    conn.close()\n",
      "    return df\n",
      "\n"
     ]
    }
   ],
   "source": [
    "from climate_database import query_regional_patterns\n",
    "\n",
    "print(inspect.getsource(query_regional_patterns))"
   ]
  },
  {
   "cell_type": "markdown",
   "metadata": {},
   "source": [
    "We can use a faceted line plot to show monthly temperature patterns for different regions of the country. The line plots can show continuous trends over time, and faceting will separate data by region for easy comparison."
   ]
  },
  {
   "cell_type": "code",
   "execution_count": 43,
   "metadata": {},
   "outputs": [
    {
     "name": "stdout",
     "output_type": "stream",
     "text": [
      "def plot_regional_patterns(db_file, country, year_begin, year_end):\n",
      "    \"\"\"\n",
      "    Parameters:\n",
      "    -----------\n",
      "    db_file (str): File name for the database\n",
      "    country (str): Name of the country\n",
      "    year_begin (int): Earliest year for the date range (inclusive)\n",
      "    year_end (int): Latest year for the date range (inclusive)\n",
      "    \n",
      "    Returns:\n",
      "    --------\n",
      "    plotly.graph_objects.Figure\n",
      "    \"\"\"\n",
      "    # Query the data\n",
      "    df = query_regional_patterns(db_file, country, year_begin, year_end)\n",
      "    \n",
      "    # Add month names\n",
      "    df['MonthName'] = df['Month'].apply(lambda x: calendar.month_abbr[x])\n",
      "    \n",
      "    # Calculate regional averages by month\n",
      "    monthly_avgs = df.groupby(['region', 'Month', 'MonthName'])['Temp'].mean().reset_index()\n",
      "    \n",
      "    # Create faceted line plot\n",
      "    fig = px.line(\n",
      "        monthly_avgs,\n",
      "        x='MonthName',\n",
      "        y='Temp',\n",
      "        facet_col='region',\n",
      "        title=f'Monthly Temperature Patterns by Region in {country} ({year_begin}-{year_end})',\n",
      "        labels={\n",
      "            'MonthName': 'Month',\n",
      "            'Temp': 'Average Temperature (°C)',\n",
      "            'region': 'Region'\n",
      "        },\n",
      "        height=500\n",
      "    )\n",
      "    \n",
      "    return fig\n",
      "\n"
     ]
    }
   ],
   "source": [
    "from main import plot_regional_patterns\n",
    "\n",
    "print(inspect.getsource(plot_regional_patterns))"
   ]
  },
  {
   "cell_type": "markdown",
   "metadata": {},
   "source": [
    "Now, we can visualize the data, for example, the regional temperature patterns in India from 1960 to 2020:"
   ]
  },
  {
   "cell_type": "code",
   "execution_count": 45,
   "metadata": {},
   "outputs": [
    {
     "data": {
      "text/html": [
       "<iframe\n",
       "    scrolling=\"no\"\n",
       "    width=\"100%\"\n",
       "    height=\"520\"\n",
       "    src=\"iframe_figures/figure_45.html\"\n",
       "    frameborder=\"0\"\n",
       "    allowfullscreen\n",
       "></iframe>\n"
      ]
     },
     "metadata": {},
     "output_type": "display_data"
    }
   ],
   "source": [
    "fig = plot_regional_patterns(\"climate.db\",\n",
    "                           country=\"India\",\n",
    "                           year_begin=1960,\n",
    "                           year_end=2020)\n",
    "fig.show()"
   ]
  },
  {
   "cell_type": "markdown",
   "metadata": {},
   "source": [
    "Not bad! Now, we can move on to explore another question:"
   ]
  },
  {
   "cell_type": "markdown",
   "metadata": {},
   "source": [
    "> **Are winters warming faster than summers in different regions of a country?**"
   ]
  },
  {
   "cell_type": "markdown",
   "metadata": {},
   "source": [
    "Again, we can first write a query function ```query_regional_warming()``` to identify summer (Jun-Aug) and winter (Dec-Feb) months and prepare data for trend analysis."
   ]
  },
  {
   "cell_type": "code",
   "execution_count": 49,
   "metadata": {},
   "outputs": [
    {
     "name": "stdout",
     "output_type": "stream",
     "text": [
      "def query_regional_warming(db_file, country, year_begin, year_end):\n",
      "    \"\"\"\n",
      "    Parameters:\n",
      "    -----------\n",
      "    db_file (str): File name for the database\n",
      "    country (str): Name of the country\n",
      "    year_begin (int): Earliest year for the date range (inclusive)\n",
      "    year_end (int): Latest year for the date range (inclusive)\n",
      "    \n",
      "    Returns:\n",
      "    --------\n",
      "    pandas.DataFrame with regional summer/winter temperatures over time\n",
      "    \"\"\"\n",
      "    conn = sqlite3.connect(db_file)\n",
      "    \n",
      "    query = f\"\"\"\n",
      "        WITH station_regions AS (\n",
      "            SELECT \n",
      "                s.ID,\n",
      "                CASE \n",
      "                    WHEN s.LATITUDE >= LAT_MAX - (LAT_MAX - LAT_MIN)/3 THEN 'North'\n",
      "                    WHEN s.LATITUDE >= LAT_MAX - 2*(LAT_MAX - LAT_MIN)/3 THEN 'Central'\n",
      "                    ELSE 'South'\n",
      "                END as region\n",
      "            FROM stations s\n",
      "            JOIN countries c ON substr(s.ID, 1, 2) = c.\"FIPS 10-4\"\n",
      "            CROSS JOIN (\n",
      "                SELECT \n",
      "                    MAX(LATITUDE) as LAT_MAX,\n",
      "                    MIN(LATITUDE) as LAT_MIN\n",
      "                FROM stations s2\n",
      "                JOIN countries c2 ON substr(s2.ID, 1, 2) = c2.\"FIPS 10-4\"\n",
      "                WHERE c2.Name = '{country}'\n",
      "            )\n",
      "            WHERE c.Name = '{country}'\n",
      "        )\n",
      "        SELECT \n",
      "            t.Year,\n",
      "            t.Month,\n",
      "            CASE \n",
      "                WHEN t.Month IN (6,7,8) THEN 'Summer'\n",
      "                WHEN t.Month IN (12,1,2) THEN 'Winter'\n",
      "            END as season,\n",
      "            sr.region,\n",
      "            t.Temp\n",
      "        FROM temperatures t\n",
      "        JOIN station_regions sr ON t.ID = sr.ID\n",
      "        JOIN countries c ON substr(t.ID, 1, 2) = c.\"FIPS 10-4\"\n",
      "        WHERE c.Name = '{country}'\n",
      "        AND t.Year >= {year_begin}\n",
      "        AND t.Year <= {year_end}\n",
      "        AND t.Month IN (1,2,6,7,8,12)  -- Summer and winter months only\n",
      "        GROUP BY t.Year, t.Month, sr.region\n",
      "        ORDER BY t.Year, t.Month, sr.region\n",
      "    \"\"\"\n",
      "    \n",
      "    df = pd.read_sql_query(query, conn)\n",
      "    conn.close()\n",
      "    return df\n",
      "\n"
     ]
    }
   ],
   "source": [
    "from climate_database import query_regional_warming\n",
    "\n",
    "print(inspect.getsource(query_regional_warming))"
   ]
  },
  {
   "cell_type": "code",
   "execution_count": 50,
   "metadata": {},
   "outputs": [
    {
     "name": "stdout",
     "output_type": "stream",
     "text": [
      "def plot_regional_warming(db_file, country, year_begin, year_end):\n",
      "    \"\"\"\n",
      "    Parameters:\n",
      "    -----------\n",
      "    db_file (str): File name for the database\n",
      "    country (str): Name of the country\n",
      "    year_begin (int): Earliest year for the date range (inclusive)\n",
      "    year_end (int): Latest year for the date range (inclusive)\n",
      "    \n",
      "    Returns:\n",
      "    --------\n",
      "    plotly.graph_objects.Figure\n",
      "    \"\"\"\n",
      "    # Query data\n",
      "    df = query_regional_warming(db_file, country, year_begin, year_end)\n",
      "    \n",
      "    # Create faceted scatter plot with trend lines\n",
      "    fig = px.scatter(\n",
      "        df,\n",
      "        x='Year',\n",
      "        y='Temp',\n",
      "        color='season',\n",
      "        facet_col='region',\n",
      "        trendline=\"ols\",\n",
      "        title=f'Summer vs Winter Warming Rates by Region in {country} ({year_begin}-{year_end})',\n",
      "        labels={\n",
      "            'Year': 'Year',\n",
      "            'Temp': 'Temperature (°C)',\n",
      "            'season': 'Season',\n",
      "            'region': 'Region'\n",
      "        },\n",
      "        height=500\n",
      "    )\n",
      "    \n",
      "    return fig\n",
      "\n"
     ]
    }
   ],
   "source": [
    "from main import plot_regional_warming\n",
    "\n",
    "print(inspect.getsource(plot_regional_warming))"
   ]
  },
  {
   "cell_type": "markdown",
   "metadata": {},
   "source": [
    "And here, we can use a scatter plot with regression lines to show temperature trends by region, comparing summer and winter warming rates."
   ]
  },
  {
   "cell_type": "code",
   "execution_count": 52,
   "metadata": {},
   "outputs": [
    {
     "data": {
      "text/html": [
       "<iframe\n",
       "    scrolling=\"no\"\n",
       "    width=\"100%\"\n",
       "    height=\"520\"\n",
       "    src=\"iframe_figures/figure_52.html\"\n",
       "    frameborder=\"0\"\n",
       "    allowfullscreen\n",
       "></iframe>\n"
      ]
     },
     "metadata": {},
     "output_type": "display_data"
    }
   ],
   "source": [
    "fig = plot_regional_warming(\"climate.db\",\n",
    "                           country=\"India\",\n",
    "                           year_begin=1960,\n",
    "                           year_end=2020)\n",
    "fig.show()"
   ]
  },
  {
   "cell_type": "markdown",
   "metadata": {},
   "source": [
    "Great! We've created another interactive plot.\n",
    "\n",
    "Just to recap what we've accomplished in this tutorial: Through a combination of SQL querying, data processing, and Plotly's visualization capabilities, we have learned how to create interactive maps and plots that reveal temperature patterns across different regions and timeframes.\n",
    "\n",
    "Using similar methods, we can also explore other parts of the data (or even introduce a brand new dataset!) to investigate other aspects of our changing climate."
   ]
  }
 ],
 "metadata": {
  "kernelspec": {
   "display_name": "Python [conda env:PIC16B-25W]",
   "language": "python",
   "name": "conda-env-PIC16B-25W-py"
  },
  "language_info": {
   "codemirror_mode": {
    "name": "ipython",
    "version": 3
   },
   "file_extension": ".py",
   "mimetype": "text/x-python",
   "name": "python",
   "nbconvert_exporter": "python",
   "pygments_lexer": "ipython3",
   "version": "3.11.6"
  }
 },
 "nbformat": 4,
 "nbformat_minor": 4
}
