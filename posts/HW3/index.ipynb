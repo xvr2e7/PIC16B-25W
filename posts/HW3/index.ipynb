{
 "cells": [
  {
   "cell_type": "raw",
   "metadata": {
    "vscode": {
     "languageId": "raw"
    }
   },
   "source": [
    "---\n",
    "title: \"Dash off a Simple Message Bank\"\n",
    "author: \"Ziyan\"\n",
    "date: \"2025-02-17\"\n",
    "categories: [homework]\n",
    "format:\n",
    "  html:\n",
    "    code-overflow: wrap\n",
    "---"
   ]
  },
  {
   "cell_type": "markdown",
   "metadata": {},
   "source": [
    "Welcome back! Today, we'll build a simple web app using `Dash`, developed by the folks at Plotly.\n",
    "\n",
    "We'll create a message bank where users can submit messages and view randomly selected ones."
   ]
  },
  {
   "cell_type": "markdown",
   "metadata": {},
   "source": [
    "## Preparing our Environment"
   ]
  },
  {
   "cell_type": "markdown",
   "metadata": {},
   "source": [
    "First, let's import the necessary modules: ..."
   ]
  },
  {
   "cell_type": "code",
   "execution_count": 5,
   "metadata": {},
   "outputs": [],
   "source": [
    "from dash import Dash, html, dcc, callback, Input, Output, State\n",
    "import dash_bootstrap_components as dbc\n",
    "import sqlite3"
   ]
  },
  {
   "cell_type": "markdown",
   "metadata": {},
   "source": [
    "## Building the Dash App"
   ]
  },
  {
   "cell_type": "markdown",
   "metadata": {},
   "source": [
    "### Define basic UI elements"
   ]
  },
  {
   "cell_type": "markdown",
   "metadata": {},
   "source": [
    "Our simple app will include:\n",
    "\n",
    "* A text box for submitting a message.\n",
    "* A text box for entering the name or handle of the user.\n",
    "* A “Submit” button to insert messages into the database.\n",
    "* A viewing area that displays 5 random messages from the database.\n",
    "* An \"Update\" button to retrieve random messages."
   ]
  },
  {
   "cell_type": "markdown",
   "metadata": {},
   "source": [
    "Before we enable any functions to the buttons, let's first implement this basic interface!\n",
    "\n",
    "To keep the design simple yet appealing, we’ll use Bootstrap components for Dash. We can also pick a custom font to add a personal touch!"
   ]
  },
  {
   "cell_type": "code",
   "execution_count": 10,
   "metadata": {},
   "outputs": [],
   "source": [
    "app = Dash(__name__, \n",
    "          external_stylesheets=[\n",
    "              dbc.themes.MINTY,\n",
    "              \"https://fonts.googleapis.com/css2?family=Poppins:wght@400;600&family=Space+Mono:ital,wght@0,400;0,700;1,400&display=swap\"\n",
    "          ])\n",
    "\n",
    "custom_styles = {\n",
    "    'title': {\n",
    "        'font-family': 'Space Mono, monospace',\n",
    "        'color': '#2C3E50',\n",
    "        'letter-spacing': '1px'\n",
    "    },\n",
    "    'body': {\n",
    "        'font-family': 'Poppins, sans-serif',\n",
    "        'background-color': '#F8F9FA'\n",
    "    },\n",
    "    'message': {\n",
    "        'font-family': 'Space Mono, monospace',\n",
    "        'font-style': 'italic',\n",
    "        'color': '#34495E'\n",
    "    }\n",
    "}\n",
    "\n",
    "app.title = \"Dash Message Bank\"\n",
    "\n",
    "app.layout = dbc.Container([\n",
    "    \n",
    "    html.H1('A SIMPLE MESSAGE BANK', \n",
    "            className='mt-4 mb-4 text-center',\n",
    "            style=custom_styles['title']),\n",
    "    \n",
    "    # First section: Submit\n",
    "    html.H2('Submit', \n",
    "            className='mb-4',\n",
    "            style=custom_styles['title']),\n",
    "    \n",
    "    # Message input as textarea\n",
    "    dbc.Label('Your Message:', className='h4'),\n",
    "    dbc.Textarea(\n",
    "        id='message',\n",
    "        className='mb-3 shadow-sm',\n",
    "        style={\n",
    "            'font-family': 'Poppins, sans-serif',\n",
    "            'height': '100px'\n",
    "        }\n",
    "    ),\n",
    "    \n",
    "    # Name/Handle input\n",
    "    dbc.Label('Your Name or Handle:', className='h4'),\n",
    "    dbc.Input(\n",
    "        id='handle',\n",
    "        type='text',\n",
    "        className='mb-3 shadow-sm',\n",
    "        style={\n",
    "            'font-family': 'Poppins, sans-serif',\n",
    "            'max-width': '300px'  # Limit width of username field\n",
    "        }\n",
    "    ),\n",
    "    \n",
    "    # Submit button\n",
    "    dbc.Button(\n",
    "        'SUBMIT', \n",
    "        id='submit', \n",
    "        color='primary', # Green as in the theme\n",
    "        className='mt-2 px-4',\n",
    "        style={'font-family': 'Poppins, sans-serif'}\n",
    "    ),\n",
    "\n",
    "    # Logs that show if a message is added successfully\n",
    "    html.Div(id='feedback', className='mt-3 text-success'),\n",
    "    \n",
    "    html.Hr(className='my-4'),\n",
    "\n",
    "    # Second section: View\n",
    "    html.H2('View', \n",
    "            className='mb-4',\n",
    "            style=custom_styles['title']),\n",
    "    \n",
    "    html.Div(id='messages-display',\n",
    "             className='p-3',\n",
    "             style={'background-color': 'white', 'border-radius': '8px'}),\n",
    "    \n",
    "    # Update button\n",
    "    dbc.Button(\n",
    "        'UPDATE', \n",
    "        id='update', \n",
    "        className='mt-3 px-4',\n",
    "        style={\n",
    "            'font-family': 'Poppins, sans-serif',\n",
    "            'background-color': '#9B59B6',  # Make it purple!\n",
    "            'border-color': '#9B59B6',\n",
    "            'color': 'white'\n",
    "        }\n",
    "    )  \n",
    "], className='p-4', style=custom_styles['body'])"
   ]
  },
  {
   "cell_type": "markdown",
   "metadata": {},
   "source": [
    "### Set up the database"
   ]
  },
  {
   "cell_type": "markdown",
   "metadata": {},
   "source": [
    "To begin, we'll create and manage our SQLite database.\n",
    "\n",
    "We can first define a function `get_message_db()`, which initializes the database if it doesn’t already exist. It will create a \"messages\" table with two text columns: \"handle\" and \"message.\""
   ]
  },
  {
   "cell_type": "code",
   "execution_count": 13,
   "metadata": {},
   "outputs": [],
   "source": [
    "message_db = None\n",
    "def get_message_db():\n",
    "    '''\n",
    "    Creates or returns a connection to an SQLite database for storing messages.\n",
    "    Returns: sqlite3 connection to the messages database\n",
    "    '''\n",
    "    global message_db\n",
    "    if not message_db:  # if None or closed\n",
    "        message_db = sqlite3.connect(\"messages_db.sqlite\", check_same_thread=False)\n",
    "        cmd = '''CREATE TABLE IF NOT EXISTS messages (handle TEXT, message TEXT)'''\n",
    "        cursor = message_db.cursor()\n",
    "        cursor.execute(cmd)\n",
    "    return message_db"
   ]
  },
  {
   "cell_type": "markdown",
   "metadata": {},
   "source": [
    "### Insert messages"
   ]
  },
  {
   "cell_type": "markdown",
   "metadata": {},
   "source": [
    "Next, we can create the `insert_message()` function, which inserts messages into the database while properly handling string quotes. We'll also save changes after each insertion."
   ]
  },
  {
   "cell_type": "code",
   "execution_count": 16,
   "metadata": {},
   "outputs": [],
   "source": [
    "def insert_message(handle, message):\n",
    "    '''\n",
    "    Inserts a message into the messages database.\n",
    "    Args:\n",
    "        handle(str): user's name or handle\n",
    "        message(str): message content     \n",
    "    '''\n",
    "    # Use previous function to get database connection\n",
    "    global message_db\n",
    "    db = get_message_db()\n",
    "\n",
    "    cursor = db.cursor()\n",
    "    cmd = '''INSERT INTO messages(handle, message) VALUES (?, ?)'''\n",
    "    cursor.execute(cmd, (handle, message))\n",
    "\n",
    "    db.commit() # Commit changes to save the insertion\n",
    "    db.close()\n",
    "    message_db = None"
   ]
  },
  {
   "cell_type": "markdown",
   "metadata": {},
   "source": [
    "### Enable submissions"
   ]
  },
  {
   "cell_type": "markdown",
   "metadata": {},
   "source": [
    "Then, we can define a decorator to handle user input submission.\n",
    "\n",
    "A decorator or callback function makes the webpage interactive by taking input components and updating output components (essentially child elements in our HTML).\n",
    "\n",
    "Now, let's create a `submit()` function. Its logic is straightforward: \n",
    "\n",
    "* If the button is clicked and both input fields are filled, the message is inserted into the database.\n",
    "*  A confirmation message is returned and gets displayed in the `feedback` div."
   ]
  },
  {
   "cell_type": "code",
   "execution_count": 19,
   "metadata": {},
   "outputs": [],
   "source": [
    "@callback(\n",
    "    # Output: update the feedback div to show result\n",
    "    [Output('feedback', 'children'),\n",
    "    Output('message', 'value'),\n",
    "    Output('handle', 'value')],\n",
    "    \n",
    "    # Input: listen for submit button clicks\n",
    "    Input('submit', 'n_clicks'),\n",
    "    \n",
    "    # State: get current values from input fields\n",
    "    [State('message', 'value'),\n",
    "     State('handle', 'value')],\n",
    "    prevent_initial_call=True\n",
    ")\n",
    "def submit(n_clicks, message, handle):\n",
    "    \"\"\"\n",
    "    Callback function to handle message submission and provide user feedback.\n",
    "    \n",
    "    Args:\n",
    "       n_clicks(int): number of times submit button clicked\n",
    "       handle(str): username from input field\n",
    "       message(str): user message from input field\n",
    "   \n",
    "   Returns:\n",
    "       str: feedback log to display to user\n",
    "   \"\"\"\n",
    "    # Validate that both fields have values\n",
    "    if not message or not handle:\n",
    "        return \"Please fill in both message and name fields.\", message, handle # Error message to alert the user\n",
    "    \n",
    "    # Insert message into database\n",
    "    try:\n",
    "        insert_message(handle, message)\n",
    "        return \"Thanks for submitting a message!\", \"\", \"\"  # Clear the inputs after successful submission\n",
    "    except sqlite3.Error as e:\n",
    "        return f\"An error occurred: {str(e)}\", message, handle"
   ]
  },
  {
   "cell_type": "markdown",
   "metadata": {},
   "source": [
    "### Retrieve Random Submissions"
   ]
  },
  {
   "cell_type": "markdown",
   "metadata": {},
   "source": [
    "Before enabling the \"Update\" feature, we'll create a helper function to fetch a specified number of random messages from the database."
   ]
  },
  {
   "cell_type": "code",
   "execution_count": 22,
   "metadata": {},
   "outputs": [],
   "source": [
    "def random_messages(n):\n",
    "    '''\n",
    "    Returns n random messages from the database.\n",
    "    Args:\n",
    "        n(int): number of random messages to return\n",
    "    Returns:\n",
    "        list: list of (handle, message) tuples\n",
    "    '''\n",
    "    global message_db\n",
    "    db = get_message_db()\n",
    "    cursor = db.cursor()\n",
    "    cmd = '''SELECT * FROM messages ORDER BY RANDOM() LIMIT ?'''\n",
    "    cursor.execute(cmd, (n,))\n",
    "    messages = cursor.fetchall()\n",
    "    db.close()\n",
    "    message_db = None\n",
    "    return messages"
   ]
  },
  {
   "cell_type": "markdown",
   "metadata": {},
   "source": [
    "### View Random Submissions"
   ]
  },
  {
   "cell_type": "markdown",
   "metadata": {},
   "source": [
    "Finally, we can write another callback to handle message display:\n",
    "\n",
    "* If the button is clicked, `random_messages()` will help fetch messages from `messages_db`.\n",
    "* Then, messages are displayed as a list in the `message-display` div.\n",
    "\n",
    "Here, I've set the cap at five messages at a time."
   ]
  },
  {
   "cell_type": "code",
   "execution_count": 25,
   "metadata": {},
   "outputs": [],
   "source": [
    "@callback(\n",
    "    Output('messages-display', 'children'),\n",
    "    Input('update', 'n_clicks'),\n",
    "    prevent_initial_call=True\n",
    ")\n",
    "def view(n_clicks):\n",
    "    if n_clicks is None:\n",
    "        return \"\"\n",
    "    \n",
    "    messages = random_messages(5)\n",
    "    message_elements = []\n",
    "    for handle, msg in messages:\n",
    "        message_elements.extend([\n",
    "            html.P(msg, \n",
    "                  className='mb-1',\n",
    "                  style={'font-family': 'Poppins, sans-serif', 'color': '#2C3E50'}),\n",
    "            html.P(f\"- {handle}\", \n",
    "                  className='mb-4 fst-italic',\n",
    "                  style=custom_styles['message'])\n",
    "        ])\n",
    "    \n",
    "    return message_elements"
   ]
  },
  {
   "cell_type": "markdown",
   "metadata": {},
   "source": [
    "## Testing the App"
   ]
  },
  {
   "cell_type": "markdown",
   "metadata": {},
   "source": [
    "Now we're all set! Let's try to run the app in the web browser:"
   ]
  },
  {
   "cell_type": "code",
   "execution_count": 28,
   "metadata": {},
   "outputs": [
    {
     "data": {
      "text/html": [
       "\n",
       "        <iframe\n",
       "            width=\"100%\"\n",
       "            height=\"650\"\n",
       "            src=\"http://127.0.0.1:8050/\"\n",
       "            frameborder=\"0\"\n",
       "            allowfullscreen\n",
       "            \n",
       "        ></iframe>\n",
       "        "
      ],
      "text/plain": [
       "<IPython.lib.display.IFrame at 0x11158ab90>"
      ]
     },
     "metadata": {},
     "output_type": "display_data"
    }
   ],
   "source": [
    "if __name__ == '__main__':\n",
    "    app.run(port=8050, debug=True)"
   ]
  },
  {
   "cell_type": "markdown",
   "metadata": {},
   "source": [
    "We can submit messages and see a confirmation of successful submission.\n",
    "\n",
    "After submitting a few messages, we can test the \"Update\" button to display five random messages on the same page!"
   ]
  },
  {
   "cell_type": "raw",
   "metadata": {},
   "source": [
    "<figure style=\"text-align: center;\">\n",
    "    <img src=\"web-app.png\" width=\"600\" alt=\"A Screencap of our Working App\">\n",
    "    <figcaption>A Screencap of our Working App</figcaption>\n",
    "</figure>"
   ]
  },
  {
   "cell_type": "markdown",
   "metadata": {},
   "source": [
    "Awesome! Now we can either continue to enhance the page's design or deploy it to the cloud! Have fun!"
   ]
  }
 ],
 "metadata": {
  "kernelspec": {
   "display_name": "Python [conda env:PIC16B-25W]",
   "language": "python",
   "name": "conda-env-PIC16B-25W-py"
  },
  "language_info": {
   "codemirror_mode": {
    "name": "ipython",
    "version": 3
   },
   "file_extension": ".py",
   "mimetype": "text/x-python",
   "name": "python",
   "nbconvert_exporter": "python",
   "pygments_lexer": "ipython3",
   "version": "3.11.6"
  }
 },
 "nbformat": 4,
 "nbformat_minor": 4
}
